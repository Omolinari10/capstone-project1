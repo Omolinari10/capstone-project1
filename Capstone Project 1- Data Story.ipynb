{
 "cells": [
  {
   "cell_type": "markdown",
   "metadata": {},
   "source": [
    "# Exploratory Data Analysis"
   ]
  },
  {
   "cell_type": "code",
   "execution_count": 1,
   "metadata": {},
   "outputs": [],
   "source": [
    "# During the Exploratory Data Analysis (EDA) Phase of this Capstone Project 1, I generated the PandasProfilingReport.html \n",
    "#   file through another Jupyter Notebook (Capstone Project 1 - DataFrame Pandas Profiling). I did this because of the large\n",
    "#   number of variables in the file (150 variables.)\n",
    "#   In looking at the results, I focused on finding if there were correlations between some of the variables.\n",
    "#   Below I first load a smaller sample of the modeling data, and then I focus on a few variables to see if they are correlated"
   ]
  },
  {
   "cell_type": "code",
   "execution_count": 2,
   "metadata": {},
   "outputs": [],
   "source": [
    "import pandas as pd\n",
    "import pandas_profiling\n",
    "import numpy as np"
   ]
  },
  {
   "cell_type": "code",
   "execution_count": 3,
   "metadata": {},
   "outputs": [],
   "source": [
    "#   1) LOADING THE LENDING CLUB accepted_2007_to_2018Q4.csv FILE WHILE FILTERING DOWN TO 2017-2018 DATA\n",
    "apprTemp = []\n",
    "df1 = pd.DataFrame()\n",
    "\n",
    "# file to load\n",
    "filename = r\"C:\\Users\\olivi\\Documents\\Olivier\\Training\\Springboard Learning\\Data Science Career Track\\Capstone Project 1\\Idea3 - Predicting Full Payment on LendingClub Lease Applications\\datasets\\accepted_2007_to_2018Q4.csv\"\n",
    "\n",
    "# use chunk size 100000\n",
    "c_size = 100000\n",
    "\n",
    "import warnings\n",
    "warnings.filterwarnings(\"ignore\", 'This pattern has match groups')\n",
    "\n",
    "for approved_chunk in pd.read_csv(filename,chunksize=c_size, iterator=True, low_memory=False):  \n",
    "    \n",
    "    # Filtering records via regular expression such that only records for the year 2018 are kept\n",
    "    approved = approved_chunk[approved_chunk['issue_d'].str.contains('2018',na=False, regex=True)]\n",
    "    \n",
    "    # Putting the filtered data back together by appending each chunk to the next\n",
    "    apprTemp.append(approved)"
   ]
  },
  {
   "cell_type": "code",
   "execution_count": 4,
   "metadata": {},
   "outputs": [
    {
     "name": "stdout",
     "output_type": "stream",
     "text": [
      "Database: CONCATENATING PROCESSED CHUNKS INTO A SINGLE DATAFRAME\n",
      "Database: LOADED\n",
      "<class 'pandas.core.frame.DataFrame'>\n",
      "Int64Index: 495242 entries, 421097 to 1611876\n",
      "Columns: 151 entries, id to settlement_term\n",
      "dtypes: float64(113), object(38)\n",
      "memory usage: 574.3+ MB\n"
     ]
    }
   ],
   "source": [
    "#   1) CONTINUED...\n",
    "print(\"Database: CONCATENATING PROCESSED CHUNKS INTO A SINGLE DATAFRAME\")\n",
    "# CONCATENATING PROCESSED DATA\n",
    "df1 = pd.concat(apprTemp)\n",
    "print(\"Database: LOADED\")\n",
    "df1.info()"
   ]
  },
  {
   "cell_type": "code",
   "execution_count": 5,
   "metadata": {},
   "outputs": [],
   "source": [
    "sample_subset = df1.sample(frac=0.50)"
   ]
  },
  {
   "cell_type": "code",
   "execution_count": 6,
   "metadata": {},
   "outputs": [
    {
     "name": "stdout",
     "output_type": "stream",
     "text": [
      "<class 'pandas.core.frame.DataFrame'>\n",
      "Int64Index: 247621 entries, 785518 to 810625\n",
      "Columns: 151 entries, id to settlement_term\n",
      "dtypes: float64(113), object(38)\n",
      "memory usage: 287.2+ MB\n"
     ]
    }
   ],
   "source": [
    "sample_subset.info()"
   ]
  },
  {
   "cell_type": "code",
   "execution_count": 7,
   "metadata": {},
   "outputs": [
    {
     "name": "stdout",
     "output_type": "stream",
     "text": [
      "<class 'pandas.core.frame.DataFrame'>\n",
      "Int64Index: 247621 entries, 785518 to 810625\n",
      "Data columns (total 151 columns):\n",
      " #   Column                                      Non-Null Count   Dtype  \n",
      "---  ------                                      --------------   -----  \n",
      " 0   id                                          247621 non-null  object \n",
      " 1   member_id                                   0 non-null       float64\n",
      " 2   loan_amnt                                   247621 non-null  float64\n",
      " 3   funded_amnt                                 247621 non-null  float64\n",
      " 4   funded_amnt_inv                             247621 non-null  float64\n",
      " 5   term                                        247621 non-null  object \n",
      " 6   int_rate                                    247621 non-null  float64\n",
      " 7   installment                                 247621 non-null  float64\n",
      " 8   grade                                       247621 non-null  object \n",
      " 9   sub_grade                                   247621 non-null  object \n",
      " 10  emp_title                                   220424 non-null  object \n",
      " 11  emp_length                                  226837 non-null  object \n",
      " 12  home_ownership                              247621 non-null  object \n",
      " 13  annual_inc                                  247621 non-null  float64\n",
      " 14  verification_status                         247621 non-null  object \n",
      " 15  issue_d                                     247621 non-null  object \n",
      " 16  loan_status                                 247621 non-null  object \n",
      " 17  pymnt_plan                                  247621 non-null  object \n",
      " 18  url                                         247621 non-null  object \n",
      " 19  desc                                        0 non-null       object \n",
      " 20  purpose                                     247621 non-null  object \n",
      " 21  title                                       247621 non-null  object \n",
      " 22  zip_code                                    247621 non-null  object \n",
      " 23  addr_state                                  247621 non-null  object \n",
      " 24  dti                                         247074 non-null  float64\n",
      " 25  delinq_2yrs                                 247621 non-null  float64\n",
      " 26  earliest_cr_line                            247621 non-null  object \n",
      " 27  fico_range_low                              247621 non-null  float64\n",
      " 28  fico_range_high                             247621 non-null  float64\n",
      " 29  inq_last_6mths                              247621 non-null  float64\n",
      " 30  mths_since_last_delinq                      109208 non-null  float64\n",
      " 31  mths_since_last_record                      31364 non-null   float64\n",
      " 32  open_acc                                    247621 non-null  float64\n",
      " 33  pub_rec                                     247621 non-null  float64\n",
      " 34  revol_bal                                   247621 non-null  float64\n",
      " 35  revol_util                                  247317 non-null  float64\n",
      " 36  total_acc                                   247621 non-null  float64\n",
      " 37  initial_list_status                         247621 non-null  object \n",
      " 38  out_prncp                                   247621 non-null  float64\n",
      " 39  out_prncp_inv                               247621 non-null  float64\n",
      " 40  total_pymnt                                 247621 non-null  float64\n",
      " 41  total_pymnt_inv                             247621 non-null  float64\n",
      " 42  total_rec_prncp                             247621 non-null  float64\n",
      " 43  total_rec_int                               247621 non-null  float64\n",
      " 44  total_rec_late_fee                          247621 non-null  float64\n",
      " 45  recoveries                                  247621 non-null  float64\n",
      " 46  collection_recovery_fee                     247621 non-null  float64\n",
      " 47  last_pymnt_d                                247268 non-null  object \n",
      " 48  last_pymnt_amnt                             247621 non-null  float64\n",
      " 49  next_pymnt_d                                219548 non-null  object \n",
      " 50  last_credit_pull_d                          247620 non-null  object \n",
      " 51  last_fico_range_high                        247621 non-null  float64\n",
      " 52  last_fico_range_low                         247621 non-null  float64\n",
      " 53  collections_12_mths_ex_med                  247621 non-null  float64\n",
      " 54  mths_since_last_major_derog                 57325 non-null   float64\n",
      " 55  policy_code                                 247621 non-null  float64\n",
      " 56  application_type                            247621 non-null  object \n",
      " 57  annual_inc_joint                            34208 non-null   float64\n",
      " 58  dti_joint                                   34208 non-null   float64\n",
      " 59  verification_status_joint                   31755 non-null   object \n",
      " 60  acc_now_delinq                              247621 non-null  float64\n",
      " 61  tot_coll_amt                                247621 non-null  float64\n",
      " 62  tot_cur_bal                                 247621 non-null  float64\n",
      " 63  open_acc_6m                                 247621 non-null  float64\n",
      " 64  open_act_il                                 247621 non-null  float64\n",
      " 65  open_il_12m                                 247621 non-null  float64\n",
      " 66  open_il_24m                                 247621 non-null  float64\n",
      " 67  mths_since_rcnt_il                          238414 non-null  float64\n",
      " 68  total_bal_il                                247621 non-null  float64\n",
      " 69  il_util                                     207181 non-null  float64\n",
      " 70  open_rv_12m                                 247621 non-null  float64\n",
      " 71  open_rv_24m                                 247621 non-null  float64\n",
      " 72  max_bal_bc                                  247621 non-null  float64\n",
      " 73  all_util                                    247547 non-null  float64\n",
      " 74  total_rev_hi_lim                            247621 non-null  float64\n",
      " 75  inq_fi                                      247621 non-null  float64\n",
      " 76  total_cu_tl                                 247621 non-null  float64\n",
      " 77  inq_last_12m                                247621 non-null  float64\n",
      " 78  acc_open_past_24mths                        247621 non-null  float64\n",
      " 79  avg_cur_bal                                 247600 non-null  float64\n",
      " 80  bc_open_to_buy                              244343 non-null  float64\n",
      " 81  bc_util                                     244240 non-null  float64\n",
      " 82  chargeoff_within_12_mths                    247621 non-null  float64\n",
      " 83  delinq_amnt                                 247621 non-null  float64\n",
      " 84  mo_sin_old_il_acct                          238414 non-null  float64\n",
      " 85  mo_sin_old_rev_tl_op                        247621 non-null  float64\n",
      " 86  mo_sin_rcnt_rev_tl_op                       247621 non-null  float64\n",
      " 87  mo_sin_rcnt_tl                              247621 non-null  float64\n",
      " 88  mort_acc                                    247621 non-null  float64\n",
      " 89  mths_since_recent_bc                        244536 non-null  float64\n",
      " 90  mths_since_recent_bc_dlq                    48991 non-null   float64\n",
      " 91  mths_since_recent_inq                       217036 non-null  float64\n",
      " 92  mths_since_recent_revol_delinq              71403 non-null   float64\n",
      " 93  num_accts_ever_120_pd                       247621 non-null  float64\n",
      " 94  num_actv_bc_tl                              247621 non-null  float64\n",
      " 95  num_actv_rev_tl                             247621 non-null  float64\n",
      " 96  num_bc_sats                                 247621 non-null  float64\n",
      " 97  num_bc_tl                                   247621 non-null  float64\n",
      " 98  num_il_tl                                   247621 non-null  float64\n",
      " 99  num_op_rev_tl                               247621 non-null  float64\n",
      " 100 num_rev_accts                               247621 non-null  float64\n",
      " 101 num_rev_tl_bal_gt_0                         247621 non-null  float64\n",
      " 102 num_sats                                    247621 non-null  float64\n",
      " 103 num_tl_120dpd_2m                            241414 non-null  float64\n",
      " 104 num_tl_30dpd                                247621 non-null  float64\n",
      " 105 num_tl_90g_dpd_24m                          247621 non-null  float64\n",
      " 106 num_tl_op_past_12m                          247621 non-null  float64\n",
      " 107 pct_tl_nvr_dlq                              247619 non-null  float64\n",
      " 108 percent_bc_gt_75                            244339 non-null  float64\n",
      " 109 pub_rec_bankruptcies                        247621 non-null  float64\n",
      " 110 tax_liens                                   247621 non-null  float64\n",
      " 111 tot_hi_cred_lim                             247621 non-null  float64\n",
      " 112 total_bal_ex_mort                           247621 non-null  float64\n",
      " 113 total_bc_limit                              247621 non-null  float64\n",
      " 114 total_il_high_credit_limit                  247621 non-null  float64\n",
      " 115 revol_bal_joint                             34208 non-null   float64\n",
      " 116 sec_app_fico_range_low                      34208 non-null   float64\n",
      " 117 sec_app_fico_range_high                     34208 non-null   float64\n",
      " 118 sec_app_earliest_cr_line                    34208 non-null   object \n",
      " 119 sec_app_inq_last_6mths                      34208 non-null   float64\n",
      " 120 sec_app_mort_acc                            34208 non-null   float64\n",
      " 121 sec_app_open_acc                            34208 non-null   float64\n",
      " 122 sec_app_revol_util                          33587 non-null   float64\n",
      " 123 sec_app_open_act_il                         34208 non-null   float64\n",
      " 124 sec_app_num_rev_accts                       34208 non-null   float64\n",
      " 125 sec_app_chargeoff_within_12_mths            34208 non-null   float64\n",
      " 126 sec_app_collections_12_mths_ex_med          34208 non-null   float64\n",
      " 127 sec_app_mths_since_last_major_derog         10999 non-null   float64\n",
      " 128 hardship_flag                               247621 non-null  object \n",
      " 129 hardship_type                               182 non-null     object \n",
      " 130 hardship_reason                             182 non-null     object \n",
      " 131 hardship_status                             182 non-null     object \n",
      " 132 deferral_term                               182 non-null     float64\n",
      " 133 hardship_amount                             182 non-null     float64\n",
      " 134 hardship_start_date                         182 non-null     object \n",
      " 135 hardship_end_date                           182 non-null     object \n",
      " 136 payment_plan_start_date                     182 non-null     object \n",
      " 137 hardship_length                             182 non-null     float64\n",
      " 138 hardship_dpd                                182 non-null     float64\n",
      " 139 hardship_loan_status                        182 non-null     object \n",
      " 140 orig_projected_additional_accrued_interest  156 non-null     float64\n",
      " 141 hardship_payoff_balance_amount              182 non-null     float64\n",
      " 142 hardship_last_payment_amount                182 non-null     float64\n",
      " 143 disbursement_method                         247621 non-null  object \n",
      " 144 debt_settlement_flag                        247621 non-null  object \n",
      " 145 debt_settlement_flag_date                   241 non-null     object \n",
      " 146 settlement_status                           241 non-null     object \n",
      " 147 settlement_date                             241 non-null     object \n",
      " 148 settlement_amount                           241 non-null     float64\n",
      " 149 settlement_percentage                       241 non-null     float64\n",
      " 150 settlement_term                             241 non-null     float64\n",
      "dtypes: float64(113), object(38)\n",
      "memory usage: 287.2+ MB\n"
     ]
    }
   ],
   "source": [
    "sample_subset.info(verbose=True, null_counts=True)"
   ]
  },
  {
   "cell_type": "code",
   "execution_count": 8,
   "metadata": {},
   "outputs": [
    {
     "data": {
      "text/plain": [
       "Current               213662\n",
       "Fully Paid             23640\n",
       "Charged Off             4433\n",
       "Late (31-120 days)      3639\n",
       "In Grace Period         1445\n",
       "Late (16-30 days)        799\n",
       "Default                    3\n",
       "Name: loan_status, dtype: int64"
      ]
     },
     "execution_count": 8,
     "metadata": {},
     "output_type": "execute_result"
    }
   ],
   "source": [
    "# I wanted to see if there was a correlation between fico score and Performance based on loan status\n",
    "#    My assumption was that there would be a clear correlation between the Fico Score and Performance.\n",
    "\n",
    "# I first took a look at the distribution of unique values in loan status\n",
    "sample_subset.loan_status.value_counts()"
   ]
  },
  {
   "cell_type": "code",
   "execution_count": 9,
   "metadata": {},
   "outputs": [
    {
     "data": {
      "text/plain": [
       "Good             237302\n",
       "Bad                8871\n",
       "Indeterminate      1448\n",
       "Name: Performance, dtype: int64"
      ]
     },
     "execution_count": 9,
     "metadata": {},
     "output_type": "execute_result"
    }
   ],
   "source": [
    "# From the results above, I then created a new variable named Performance where Performance can take on three values: \n",
    "#   1) Good, 2) Bad, or 3) Indeterminate.\n",
    "\n",
    "#   1) I then defined as Good: records for which the loan_status is either 'Current' or 'Fully Paid'.\n",
    "Good = ['Current','Fully Paid']\n",
    "sample_subset.loc[(sample_subset['loan_status'].isin(Good)),'Performance'] = 'Good'\n",
    "\n",
    "#   2) I then defined as Bad: records for which the loan_status is either 'Late (16-30 days)', 'Late (31-120 days)' or 'Charged Off'\n",
    "Bad = ['Late (16-30 days)','Late (31-120 days)','Charged Off']\n",
    "sample_subset.loc[(sample_subset['loan_status'].isin(Bad)),'Performance'] = 'Bad'\n",
    "\n",
    "#   3) I then defined as Indeterminate: records for which the loan_status is 'In Grace Period', or 'Default'\n",
    "Indeterminate = ['In Grace Period','Default']\n",
    "sample_subset.loc[(sample_subset['loan_status'].isin(Indeterminate)),'Performance'] = 'Indeterminate'\n",
    "\n",
    "# Then I took a look at distribution of records by the Performance variable I created above\n",
    "sample_subset.Performance.value_counts()"
   ]
  },
  {
   "cell_type": "code",
   "execution_count": 19,
   "metadata": {},
   "outputs": [
    {
     "name": "stdout",
     "output_type": "stream",
     "text": [
      "\n",
      " Performance\n",
      "Bad              698.579078\n",
      "Good             706.820402\n",
      "Indeterminate    696.809392\n",
      "Name: fico_range_low, dtype: float64\n",
      "\n",
      " Performance\n",
      "Bad              702.579303\n",
      "Good             710.820773\n",
      "Indeterminate    700.809392\n",
      "Name: fico_range_high, dtype: float64\n"
     ]
    }
   ],
   "source": [
    "# I next got the average fico_range_low by Performance\n",
    "fico_low = sample_subset.groupby('Performance').fico_range_low.mean()\n",
    "\n",
    "# Then I got the average fico_range_high by Performance\n",
    "fico_high = sample_subset.groupby('Performance').fico_range_high.mean()\n",
    "\n",
    "print('\\n',fico_low)\n",
    "print('\\n',fico_high)"
   ]
  },
  {
   "cell_type": "code",
   "execution_count": 74,
   "metadata": {},
   "outputs": [
    {
     "data": {
      "text/plain": [
       "<matplotlib.axes._subplots.AxesSubplot at 0x1db0f69e8b0>"
      ]
     },
     "execution_count": 74,
     "metadata": {},
     "output_type": "execute_result"
    },
    {
     "data": {
      "image/png": "[encoded data removed]",
      "text/plain": [
       "<Figure size 576x396 with 1 Axes>"
      ]
     },
     "metadata": {},
     "output_type": "display_data"
    }
   ],
   "source": [
    "import matplotlib.pyplot as plt\n",
    "\n",
    "# Below I took a look at the Performance by fico_range_low in a bar graph. \n",
    "fico_low.plot(x ='Performance', y='fico_range_low', kind = 'bar')"
   ]
  },
  {
   "cell_type": "code",
   "execution_count": 23,
   "metadata": {},
   "outputs": [
    {
     "data": {
      "text/plain": [
       "<matplotlib.axes._subplots.AxesSubplot at 0x1db2c8b8d00>"
      ]
     },
     "execution_count": 23,
     "metadata": {},
     "output_type": "execute_result"
    },
    {
     "data": {
      "image/png": "[encoded data removed]",
      "text/plain": [
       "<Figure size 576x396 with 1 Axes>"
      ]
     },
     "metadata": {},
     "output_type": "display_data"
    }
   ],
   "source": [
    "# As shown above, there wasn't much variance in the average fico_range_low by Performance\n",
    "\n",
    "# Then I took a look at the Performance by fico_range_high in a bar graph. \n",
    "fico_high.plot(x ='Performance', y='fico_range_high', kind = 'bar')"
   ]
  },
  {
   "cell_type": "code",
   "execution_count": 43,
   "metadata": {},
   "outputs": [],
   "source": [
    "# Again, as shown above, there wasn't much variance in the average fico_range_high by Performance\n",
    "\n",
    "# My assumption was that there would be a high variance between at least Good and Bad Performance based on Fico Score. \n",
    "#   That was proved to not be the case.\n",
    "\n",
    "# Then I got the Performance distribution by Purpose as the assumption was that the Purpose of taking the loan might\n",
    "#   explain the performance on the loan.\n",
    "prp = sample_subset.groupby(['purpose','Performance']).Performance.count()"
   ]
  },
  {
   "cell_type": "code",
   "execution_count": 44,
   "metadata": {},
   "outputs": [
    {
     "name": "stdout",
     "output_type": "stream",
     "text": [
      "purpose             Performance  \n",
      "car                 Bad                  93\n",
      "                    Good               2406\n",
      "                    Indeterminate        11\n",
      "credit_card         Bad                1549\n",
      "                    Good              62026\n",
      "                    Indeterminate       307\n",
      "debt_consolidation  Bad                4702\n",
      "                    Good             124221\n",
      "                    Indeterminate       799\n",
      "home_improvement    Bad                 608\n",
      "                    Good              15598\n",
      "                    Indeterminate       100\n",
      "house               Bad                 159\n",
      "                    Good               2567\n",
      "                    Indeterminate        23\n",
      "major_purchase      Bad                 328\n",
      "                    Good               5553\n",
      "                    Indeterminate        38\n",
      "medical             Bad                 184\n",
      "                    Good               3126\n",
      "                    Indeterminate        16\n",
      "moving              Bad                  96\n",
      "                    Good               1434\n",
      "                    Indeterminate        15\n",
      "other               Bad                 898\n",
      "                    Good              16485\n",
      "                    Indeterminate       109\n",
      "renewable_energy    Bad                   6\n",
      "                    Good                138\n",
      "                    Indeterminate         1\n",
      "small_business      Bad                 173\n",
      "                    Good               2074\n",
      "                    Indeterminate        21\n",
      "vacation            Bad                  74\n",
      "                    Good               1672\n",
      "                    Indeterminate         8\n",
      "wedding             Bad                   1\n",
      "                    Good                  2\n",
      "Name: Performance, dtype: int64\n"
     ]
    }
   ],
   "source": [
    "print(prp)"
   ]
  },
  {
   "cell_type": "code",
   "execution_count": 73,
   "metadata": {},
   "outputs": [
    {
     "data": {
      "text/plain": [
       "<matplotlib.axes._subplots.AxesSubplot at 0x1db0eb6fc40>"
      ]
     },
     "execution_count": 73,
     "metadata": {},
     "output_type": "execute_result"
    },
    {
     "data": {
      "image/png": "[encoded data removed]",
      "text/plain": [
       "<Figure size 1296x576 with 1 Axes>"
      ]
     },
     "metadata": {},
     "output_type": "display_data"
    }
   ],
   "source": [
    "# As shown above the most important purpose for taking a loan was debt consolidation followed by \n",
    "#   credit card (assumming paying off credit cards)\n",
    "\n",
    "# Simply looking at the numbers wasn't enough to really see a correlation between the Purpose for taking a loan\n",
    "#   and the Performance, so I decided to get a visual by creating the bar graph below.\n",
    "plt.figure(figsize=(18,8))\n",
    "prp.plot(x =['purpose','Performance'], y='count' , kind = 'bar', color=['red','green','yellow'])\n",
    "plt.title('Frequencies of Performance by Purpose of Loan')"
   ]
  },
  {
   "cell_type": "code",
   "execution_count": 75,
   "metadata": {},
   "outputs": [],
   "source": [
    "# In looking at the bar chart above, it wasn't very clear if there was a correlation between the Purpose for taking a loan\n",
    "#   and the Performance. One takeaway seemed to be that the number of Good for debt_consolidation seemed to be twice as the\n",
    "#   number of Good for credit_card, while the number of Bad for debt_consolidation seemed to be 3 times that of credit_card,\n",
    "#   which would indicate that it would be riskier to approve loans when the purpose was debt_consolidation."
   ]
  },
  {
   "cell_type": "raw",
   "metadata": {},
   "source": [
    "CONCLUSION: \n",
    "    1) Assumption that there would be a clear correlation between the Fico Score and Performance turned out not to be true\n",
    "    2) Assumption that there would be a clear correlation between the Purpose and Performance turned out to also not be true. \n",
    "       However, with Purpose, we saw that at least when comparing the debt_consolidation purpose with the credit_card purpose,\n",
    "        we were able to determine that approving loans whose Purpose was debt_consolidation turned out to be riskier than\n",
    "        approving loans whose Purpose was credit_card.\n",
    "        \n",
    "TAKEAWAY: \n",
    "    We might want to delve deeper into trying to discover why approving loans with a Purpose of debt_consolidation are riskier\n",
    "    than those with a Purpose of credit_card.  One could think that the average loan amount for debt_consolidation is much\n",
    "    larger than that for credit_card."
   ]
  }
 ],
 "metadata": {
  "kernelspec": {
   "display_name": "Python 3",
   "language": "python",
   "name": "python3"
  },
  "language_info": {
   "codemirror_mode": {
    "name": "ipython",
    "version": 3
   },
   "file_extension": ".py",
   "mimetype": "text/x-python",
   "name": "python",
   "nbconvert_exporter": "python",
   "pygments_lexer": "ipython3",
   "version": "3.8.2"
  }
 },
 "nbformat": 4,
 "nbformat_minor": 4
}
